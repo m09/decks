{
 "cells": [
  {
   "cell_type": "code",
   "execution_count": null,
   "metadata": {},
   "outputs": [],
   "source": [
    "import json\n",
    "from pathlib import Path\n",
    "from os.path import join as path_join\n",
    "\n",
    "repos_lines = !wget -qO - https://api.github.com/orgs/spoonlabs/repos\n",
    "repos = json.loads(\"\\n\".join(repos_lines))\n",
    "repos\n",
    "for repo in repos:\n",
    "    dest = path_join(\"repos\", repo[\"name\"])\n",
    "    if not Path(dest).exists():\n",
    "        !git clone {repo[\"ssh_url\"]} {dest}"
   ]
  },
  {
   "cell_type": "code",
   "execution_count": null,
   "metadata": {},
   "outputs": [],
   "source": [
    "%matplotlib inline\n",
    "\n",
    "import logging\n",
    "import coloredlogs\n",
    "import matplotlib as mpl\n",
    "import matplotlib.pyplot as plt\n",
    "from run import display_html, no_logs, run, run_one, run_and_print\n",
    "\n",
    "coloredlogs.install(level=\"DEBUG\")\n",
    "logging.getLogger(\"matplotlib.axes._base\").setLevel(logging.INFO)"
   ]
  },
  {
   "cell_type": "code",
   "execution_count": null,
   "metadata": {},
   "outputs": [],
   "source": [
    "!srcd init repos"
   ]
  },
  {
   "cell_type": "code",
   "execution_count": null,
   "metadata": {},
   "outputs": [],
   "source": [
    "java_file = \"repos/spoon-examples/src/main/java/fr/inria/gforge/spoon/HelloWorldProcessor.java\"\n",
    "!cat {java_file}"
   ]
  },
  {
   "cell_type": "code",
   "execution_count": null,
   "metadata": {},
   "outputs": [],
   "source": [
    "!srcd parse lang {java_file}"
   ]
  },
  {
   "cell_type": "code",
   "execution_count": null,
   "metadata": {},
   "outputs": [],
   "source": [
    "!srcd parse uast {java_file}"
   ]
  },
  {
   "cell_type": "code",
   "execution_count": null,
   "metadata": {},
   "outputs": [],
   "source": [
    "!srcd parse uast {java_file} --query \"//uast:Identifier/Name\""
   ]
  },
  {
   "cell_type": "code",
   "execution_count": null,
   "metadata": {},
   "outputs": [],
   "source": [
    "!srcd sql \"SHOW TABLES;\""
   ]
  },
  {
   "cell_type": "code",
   "execution_count": null,
   "metadata": {},
   "outputs": [],
   "source": [
    "run_and_print(\"\"\"\n",
    "SELECT repository_id, cf.file_path, LANGUAGE(cf.file_path, f.blob_content) as lang\n",
    "FROM   files AS f\n",
    "       NATURAL JOIN commit_files AS cf\n",
    "       NATURAL JOIN refs\n",
    "WHERE  ref_name = 'HEAD'\n",
    "       AND lang = 'Python';\n",
    "\"\"\")"
   ]
  },
  {
   "cell_type": "code",
   "execution_count": null,
   "metadata": {},
   "outputs": [],
   "source": [
    "python_file = \"repos/nopol-experiments/src/Config.py\"\n",
    "\n",
    "\n",
    "identifiers = !srcd parse uast {python_file} --query \"//uast:Identifier/Name\"\n",
    "\n",
    "\n",
    "for identifier in sorted(set(i[1:-1] for i in identifiers[1:])):\n",
    "    print(identifier)"
   ]
  },
  {
   "cell_type": "code",
   "execution_count": null,
   "metadata": {},
   "outputs": [],
   "source": [
    "!srcd sql \"SELECT * FROM repositories;\""
   ]
  },
  {
   "cell_type": "code",
   "execution_count": null,
   "metadata": {},
   "outputs": [],
   "source": [
    "repos = run(\"\"\"\n",
    "    SELECT * FROM repositories;\n",
    "\"\"\")\n",
    "print(\"got %d repositories\" % len(repos))"
   ]
  },
  {
   "cell_type": "code",
   "execution_count": null,
   "metadata": {},
   "outputs": [],
   "source": [
    "commits = run(\"\"\"\n",
    "  SELECT commit_hash\n",
    "  FROM ref_commits\n",
    "  WHERE ref_name = 'HEAD'\n",
    "    ORDER BY history_index DESC\n",
    "\"\"\")\n",
    "print('got %d commits on HEAD' % len(commits))"
   ]
  },
  {
   "cell_type": "code",
   "execution_count": null,
   "metadata": {},
   "outputs": [],
   "source": [
    "# get the corresponding timestamps\n",
    "\n",
    "timestamps = run(\"\"\"\n",
    "  SELECT commit_author_when\n",
    "  FROM commits\n",
    "  WHERE commit_hash IN (%s)\n",
    "  ORDER BY commit_author_when\n",
    "\"\"\" % (', '.join('\"%s\"' % x for x in commits)))"
   ]
  },
  {
   "cell_type": "code",
   "execution_count": null,
   "metadata": {},
   "outputs": [],
   "source": [
    "years, months, days, counts = run(\"\"\"\n",
    "  SELECT YEAR(commit_author_when) as year,\n",
    "         MONTH(commit_author_when) as month,\n",
    "         DAY(commit_author_when) as day,\n",
    "         COUNT(*) as n\n",
    "  FROM commits\n",
    "  GROUP BY year, month, day\n",
    "  ORDER BY year, month, day\n",
    "\"\"\")"
   ]
  },
  {
   "cell_type": "code",
   "execution_count": null,
   "metadata": {},
   "outputs": [],
   "source": [
    "import datetime\n",
    "from numpy import zeros\n",
    "import pandas\n",
    "from pandas.plotting import register_matplotlib_converters\n",
    "register_matplotlib_converters()\n",
    "from scipy.signal import convolve, slepian\n",
    "\n",
    "def scatter_counts(years, months, days, counts):\n",
    "    \"\"\"Turn a date-value mapping to a uniform time series.\"\"\"\n",
    "    dr = pandas.date_range(datetime.datetime(years[0], months[0], days[0]),\n",
    "                           datetime.datetime(years[-1], months[-1], days[-1]))\n",
    "    vals = zeros(len(dr))\n",
    "    filled = {(y, m, d): c for (y, m, d, c) in zip(years, months, days, counts)}\n",
    "    for i, dt in enumerate(dr):\n",
    "        vals[i] = filled.get((dt.year, dt.month, dt.day), 0)\n",
    "    window = slepian(32, 0.5)\n",
    "    window /= sum(window)\n",
    "    return dr, convolve(vals, window, \"same\")\n",
    "\n",
    "def plot_commits_through_time(years, months, days, counts):\n",
    "    plt.title(\"number of commits through time\")\n",
    "    plt.fill_between(*scatter_counts(years, months, days, counts))\n",
    "    plt.grid(False)\n",
    "\n",
    "plt.figure(figsize=(15, 3))\n",
    "plot_commits_through_time(years, months, days, counts)\n",
    "\n"
   ]
  },
  {
   "cell_type": "code",
   "execution_count": null,
   "metadata": {},
   "outputs": [],
   "source": [
    "\n",
    "\n",
    "repos, years, months, days, counts = run(\"\"\"\n",
    "  SELECT repository_id as repo,\n",
    "         YEAR(commit_author_when) as year,\n",
    "         MONTH(commit_author_when) as month,\n",
    "         DAY(commit_author_when) as day,\n",
    "         COUNT(*) as n\n",
    "  FROM commits\n",
    "  WHERE commit_author_when <= now()\n",
    "  GROUP BY repo, year, month, day\n",
    "  ORDER BY repo, year, month, day\n",
    "\"\"\")\n",
    "\n",
    "from itertools import groupby\n",
    "repos_dict = {}\n",
    "for r, g in groupby(zip(repos, years, months, days, counts), lambda t: t[0]):\n",
    "    g = list(g)\n",
    "    repos_dict[r] = [[e[i] for e in g] for i in range(1, 5)]\n",
    "ncommits = sorted([(sum(p[-1]), r) for (r, p) in repos_dict.items()], reverse=True)\n",
    "timeline = sorted(set(zip(years, months, days)))\n",
    "date_range = pandas.date_range(datetime.datetime(*timeline[0]),\n",
    "                               datetime.datetime(*timeline[-1]))\n",
    "\n",
    "def smooth_scatter_counts(years, months, days, counts):\n",
    "    \"\"\"Turn a date-value mapping to a uniform time series.\"\"\"\n",
    "    vals = zeros(len(date_range))\n",
    "    filled = {(y, m, d): c for (y, m, d, c) in zip(years, months, days, counts)}\n",
    "    for i, dt in enumerate(date_range):\n",
    "        vals[i] = filled.get((dt.year, dt.month, dt.day), 0)\n",
    "    window = slepian(32, 0.5)\n",
    "    window /= sum(window)\n",
    "    return convolve(vals, window, \"same\")\n",
    "\n",
    "plt.figure(figsize=(15, 3))\n",
    "\n",
    "plt.title(\"number of commits through time\")\n",
    "matrix = zeros((len(repos_dict), len(date_range)))\n",
    "for i, (_, repo) in enumerate(ncommits):\n",
    "      matrix[i] = smooth_scatter_counts(*repos_dict[repo])\n",
    "plt.stackplot(date_range, matrix, labels=[r for (_, r) in ncommits])\n",
    "plt.xticks(rotation=60)\n",
    "plt.legend(mode=\"expand\", loc=\"lower center\", ncol=6, bbox_to_anchor=(0, -1.6, 1., 0))\n",
    "plt.show()"
   ]
  },
  {
   "cell_type": "code",
   "execution_count": null,
   "metadata": {},
   "outputs": [],
   "source": [
    "langs, counts = run(\"\"\"\n",
    "SELECT lang, COUNT(*) as n\n",
    "FROM (\n",
    "    SELECT LANGUAGE(cf.file_path, f.blob_content) as lang\n",
    "    FROM   files AS f\n",
    "           NATURAL JOIN commit_files cf\n",
    "           NATURAL JOIN refs\n",
    "    WHERE  ref_name = 'HEAD'\n",
    "           AND file_path NOT LIKE 'third_party/%%'\n",
    ") AS t\n",
    "WHERE lang is not null\n",
    "GROUP BY lang\n",
    "ORDER BY 2 DESC\n",
    "\"\"\")"
   ]
  },
  {
   "cell_type": "code",
   "execution_count": null,
   "metadata": {},
   "outputs": [],
   "source": [
    "percents = [(100 * c) / sum(counts) for c in counts if c / sum(counts) > 0.005]\n",
    "if len(percents) < len(langs):\n",
    "    percents.append(100 - sum(percents))\n",
    "    labels = langs[:len(percents)-1] + (\"others\",)\n",
    "else:\n",
    "    labels = langs\n",
    "\n",
    "plt.figure(figsize=(10, 10))\n",
    "\n",
    "plt.title(\"# files per language\")\n",
    "_ = plt.pie(percents, labels=labels, textprops={\"fontsize\": 15})"
   ]
  },
  {
   "cell_type": "code",
   "execution_count": null,
   "metadata": {},
   "outputs": [],
   "source": [
    "langs, counts = run(\"\"\"\n",
    "SELECT lang, SUM(n)\n",
    "FROM (\n",
    "    SELECT lang, SUM(lines) as n\n",
    "    FROM (\n",
    "        SELECT f.repository_id, LANGUAGE(cf.file_path, f.blob_content) as lang,\n",
    "               ARRAY_LENGTH(SPLIT(f.blob_content, '\\n')) as lines\n",
    "        FROM   files AS f\n",
    "               NATURAL JOIN commit_files cf\n",
    "               NATURAL JOIN refs\n",
    "        WHERE  ref_name = 'HEAD'\n",
    "           AND file_path NOT LIKE 'third_party/%%'\n",
    "    ) AS t\n",
    "    WHERE lang IS NOT NULL\n",
    "    GROUP BY repository_id, lang\n",
    ") AS t\n",
    "GROUP by lang\n",
    "ORDER BY n DESC\n",
    "\"\"\")"
   ]
  },
  {
   "cell_type": "code",
   "execution_count": null,
   "metadata": {},
   "outputs": [],
   "source": [
    "percents = [(100 * c) / sum(counts) for c in counts if c / sum(counts) > 0.004]\n",
    "if len(percents) < len(langs):\n",
    "    percents.append(100 - sum(percents))\n",
    "    langs = langs[:len(percents)-1] + (\"others\",)\n",
    "\n",
    "plt.figure(figsize=(10, 10))\n",
    "\n",
    "plt.title(\"# lines of code per language\")\n",
    "_ = plt.pie(percents, labels=langs, textprops={\"fontsize\": 15})\n",
    "\n"
   ]
  },
  {
   "cell_type": "code",
   "execution_count": null,
   "metadata": {},
   "outputs": [],
   "source": [
    "orgs, counts = run(\"\"\"\n",
    "    SELECT JSON_EXTRACT(SPLIT(committer_email, '@'), '$[1]') as domain, COUNT(*) as n\n",
    "    FROM commits\n",
    "    WHERE committer_email LIKE '%%@%%'\n",
    "    GROUP BY domain\n",
    "    ORDER BY n DESC\n",
    "\"\"\")\n",
    "\n",
    "orgs = [o.strip('\"\"') for o in orgs]"
   ]
  },
  {
   "cell_type": "code",
   "execution_count": null,
   "metadata": {},
   "outputs": [],
   "source": [
    "percents = [(100 * c) / sum(counts) for c in counts if c / sum(counts) > 0.005]\n",
    "if len(percents) < len(orgs):\n",
    "    percents.append(100 - sum(percents))\n",
    "    labels = orgs[:len(percents)-1] + [\"others\"]\n",
    "else:\n",
    "    labels = orgs\n",
    "\n",
    "plt.figure(figsize=(10, 10))\n",
    "\n",
    "plt.title(\"# contributions per organization\")\n",
    "_ = plt.pie(percents, labels=labels, textprops={\"fontsize\": 15})"
   ]
  },
  {
   "cell_type": "code",
   "execution_count": null,
   "metadata": {},
   "outputs": [],
   "source": [
    "import numpy as np\n",
    "from wordcloud import WordCloud\n",
    "\n",
    "log_counts = np.log(counts) + 1\n",
    "freqs = {org: log_counts[i] for (i, org) in enumerate(orgs)}\n",
    "\n",
    "wordcloud = WordCloud(\n",
    "    width=400,\n",
    "    height=400,\n",
    "    background_color=\"white\",\n",
    "    contour_color=\"blue\",\n",
    "    contour_width=1.0,\n",
    "    colormap=\"viridis\",\n",
    "    min_font_size=4\n",
    ")\n",
    "wordcloud.generate_from_frequencies(freqs)\n",
    "plt.figure(figsize=(7, 7))\n",
    "plt.imshow(wordcloud, interpolation=\"bilinear\")\n",
    "plt.axis(\"off\")\n",
    "plt.show()"
   ]
  },
  {
   "cell_type": "code",
   "execution_count": null,
   "metadata": {},
   "outputs": [],
   "source": [
    "top_contributors, counts = run(\"\"\"\n",
    "    SELECT committer_email, COUNT(*) as n\n",
    "    FROM commits\n",
    "    GROUP BY committer_email\n",
    "    ORDER BY n DESC;\n",
    "\"\"\")"
   ]
  },
  {
   "cell_type": "code",
   "execution_count": null,
   "metadata": {},
   "outputs": [],
   "source": [
    "percents = [(100 * c) / sum(counts) for c in counts if c / sum(counts) > 0.003]\n",
    "if len(percents) < len(top_contributors):\n",
    "    percents.append(100 - sum(percents))\n",
    "    labels = list(top_contributors[:len(percents)-1]) + [\"others\"]\n",
    "else:\n",
    "    labels = top_contributors\n",
    "plt.figure(figsize=(10, 10))\n",
    "\n",
    "plt.title(\"# contributions per email\", pad=80.0)\n",
    "_ = plt.pie(percents, labels=labels, rotatelabels=True, textprops={\"fontsize\": 15})"
   ]
  },
  {
   "cell_type": "code",
   "execution_count": null,
   "metadata": {
    "scrolled": true
   },
   "outputs": [],
   "source": [
    "run_and_print(\"\"\"\n",
    "    SELECT file_path,\n",
    "           uast_extract(uast(blob_content,\n",
    "                             LANGUAGE(file_path),\n",
    "                             '//uast:Identifier'),\n",
    "           \"Name\") name\n",
    "    FROM blobs\n",
    "         NATURAL JOIN commit_files\n",
    "         NATURAL JOIN refs\n",
    "    WHERE repository_id = 'c2spoon'\n",
    "      AND LANGUAGE(file_path) = 'Java'\n",
    "      AND ref_name = 'HEAD';\n",
    "\"\"\")"
   ]
  },
  {
   "cell_type": "code",
   "execution_count": null,
   "metadata": {},
   "outputs": [],
   "source": [
    "repos, last_commit_messages = run(\"\"\"\n",
    "    SELECT r.repository_id, c.commit_message\n",
    "    FROM refs r\n",
    "    NATURAL JOIN commits c\n",
    "    WHERE r.ref_name = 'HEAD'\n",
    "\"\"\")"
   ]
  },
  {
   "cell_type": "code",
   "execution_count": null,
   "metadata": {},
   "outputs": [],
   "source": [
    "for repo, last_commit_message in zip(repos, last_commit_messages):\n",
    "    display_html('<b>%s</b>: %s' % (repo, last_commit_message))"
   ]
  }
 ],
 "metadata": {
  "kernelspec": {
   "display_name": "Python 3",
   "language": "python",
   "name": "python3"
  },
  "language_info": {
   "codemirror_mode": {
    "name": "ipython",
    "version": 3
   },
   "file_extension": ".py",
   "mimetype": "text/x-python",
   "name": "python",
   "nbconvert_exporter": "python",
   "pygments_lexer": "ipython3",
   "version": "3.7.1"
  }
 },
 "nbformat": 4,
 "nbformat_minor": 2
}
